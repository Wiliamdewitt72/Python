{
 "cells": [
  {
   "cell_type": "markdown",
   "metadata": {},
   "source": [
    "# Condicionales"
   ]
  },
  {
   "cell_type": "markdown",
   "metadata": {},
   "source": [
    "### IF/ELSE"
   ]
  },
  {
   "cell_type": "code",
   "execution_count": 7,
   "metadata": {},
   "outputs": [
    {
     "name": "stdout",
     "output_type": "stream",
     "text": [
      "good\n"
     ]
    }
   ],
   "source": [
    "comida = 102\n",
    "\n",
    "if comida == 102:\n",
    "    print(\"good\")"
   ]
  },
  {
   "cell_type": "code",
   "execution_count": 8,
   "metadata": {},
   "outputs": [
    {
     "name": "stdout",
     "output_type": "stream",
     "text": [
      "This is a sciences program at Stanford\n"
     ]
    }
   ],
   "source": [
    "harvard = \"linguistics, physics, programming, fine arts\"\n",
    "stanford = \"biology, classics, geophysics, music\"\n",
    "\n",
    "arts = \"linguistics, fine arts, classics, music\"\n",
    "sciences = \"physics, programming, biology, geophysics\"\n",
    "\n",
    "major = \"biology\"\n",
    "if major in harvard:\n",
    "    if major in arts:\n",
    "        print(\"This is an arts program at Harvard\")\n",
    "    if major in sciences:\n",
    "        print(\"This is a sciences program at Harvard\")\n",
    "if major in stanford:\n",
    "    if major in arts:\n",
    "        print(\"This is an arts program at Stanford\")\n",
    "    if major in sciences:\n",
    "        print(\"This is a sciences program at Stanford\")\n"
   ]
  },
  {
   "cell_type": "markdown",
   "metadata": {},
   "source": [
    "# Bucles"
   ]
  }
 ],
 "metadata": {
  "kernelspec": {
   "display_name": "Python 3.10.5 64-bit (windows store)",
   "language": "python",
   "name": "python3"
  },
  "language_info": {
   "codemirror_mode": {
    "name": "ipython",
    "version": 3
   },
   "file_extension": ".py",
   "mimetype": "text/x-python",
   "name": "python",
   "nbconvert_exporter": "python",
   "pygments_lexer": "ipython3",
   "version": "3.10.5"
  },
  "orig_nbformat": 4,
  "vscode": {
   "interpreter": {
    "hash": "9e6d9b908a23d3132fc2b3f5b97fbd800b70390380001875df7af25191760187"
   }
  }
 },
 "nbformat": 4,
 "nbformat_minor": 2
}
