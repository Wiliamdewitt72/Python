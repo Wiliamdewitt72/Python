{
 "cells": [
  {
   "cell_type": "markdown",
   "metadata": {},
   "source": [
    "# Condicionales"
   ]
  },
  {
   "cell_type": "markdown",
   "metadata": {},
   "source": [
    "### IF/ELSE"
   ]
  },
  {
   "cell_type": "markdown",
   "metadata": {},
   "source": [
    "Estructura del condicional:\n",
    "\n",
    "``` python\n",
    "if condicion:\n",
    "    accion_a_realizar\n",
    "elif otra_condicion:\n",
    "    accion_a_realizar\n",
    "else:\n",
    "    accion_a_realizar\n",
    "```\n",
    "```\n",
    "if => si\n",
    "elif => sino\n",
    "else => entonces\n",
    "```\n",
    "El condicional evalua que la **condición** descrita sea verdadera o falsa; si es verdadera entonces se ejecuta la **accion_a-realizar**, si no lo es encontes continua con la siguiente (`elif`), y si tampoco es verdadera, la acción a realizar por defecto es la que esta debajo de `else`."
   ]
  },
  {
   "cell_type": "code",
   "execution_count": null,
   "metadata": {},
   "outputs": [],
   "source": [
    "comida = 102\n",
    "\n",
    "if comida == 102:\n",
    "    print(\"good\")"
   ]
  },
  {
   "cell_type": "code",
   "execution_count": 7,
   "metadata": {},
   "outputs": [
    {
     "name": "stdout",
     "output_type": "stream",
     "text": [
      "This is a sciences program at Stanford\n"
     ]
    }
   ],
   "source": [
    "harvard = \"linguistics, physics, programming, fine arts\"\n",
    "stanford = \"biology, classics, geophysics, music\"\n",
    "\n",
    "arts = \"linguistics, fine arts, classics, music\"\n",
    "sciences = \"physics, programming, biology, geophysics\"\n",
    "\n",
    "major = \"biology\"\n",
    "\n",
    "\n",
    "if major in harvard:\n",
    "    if major in arts:\n",
    "        print(\"This is an arts program at Harvard\")\n",
    "    elif major in sciences:\n",
    "        print(\"This is a sciences program at Harvard\")\n",
    "if major in stanford:\n",
    "    if major in arts:\n",
    "        print(\"This is an arts program at Stanford\")\n",
    "    elif major in sciences:\n",
    "        print(\"This is a sciences program at Stanford\")\n"
   ]
  },
  {
   "cell_type": "markdown",
   "metadata": {},
   "source": [
    "# Bucles"
   ]
  },
  {
   "cell_type": "markdown",
   "metadata": {},
   "source": [
    "### For"
   ]
  },
  {
   "cell_type": "markdown",
   "metadata": {},
   "source": [
    "Un ciclo es una forma de hacer una tarea repetidas veces. Este ciclo usa como contador un *iterable*, que puede ser una cadena (todas las cadenas se pueden iterar) o un rango de numeros. El esquema del ciclo es el siguiente:\n",
    "\n",
    "```python\n",
    "for variable in iterable:\n",
    "    acción_a_realizar\n",
    "```\n",
    "`variable` toma el valor de los elementos del `iterable`, comenzando desde `iterable[0]` hasta `iterable[n-1]` siendo *n* la longitud del objeto a iterar."
   ]
  },
  {
   "cell_type": "code",
   "execution_count": 1,
   "metadata": {},
   "outputs": [
    {
     "name": "stdout",
     "output_type": "stream",
     "text": [
      "c\n",
      "a\n",
      "d\n",
      "e\n",
      "n\n",
      "a\n"
     ]
    }
   ],
   "source": [
    "cadena = \"cadena\"\n",
    "\n",
    "for n in cadena:\n",
    "    print(n)"
   ]
  },
  {
   "cell_type": "markdown",
   "metadata": {},
   "source": [
    "Si se desea iterar una secuencia de numeros (por ejemplo, del 1 al 5), existe una función `range()`, la cual crea esta secuencia.\n",
    "\n",
    "```python\n",
    "range(numero_inicio, numero_final, incremento)\n",
    "```\n",
    "\n",
    "Se puede omitir escribir el primer y tercer valor, y por **defecto** se tiene que el `numero_inicio = 0` y que `incremento = 1`. Es decir, la secuencia comenzará a crearse desde cero y llegara hasta el `numero_final`, e incrementara el valor de la **variable** en 1. El último valor no forma parte de la secuencia y el primer valor siempre forma parte."
   ]
  },
  {
   "cell_type": "code",
   "execution_count": 5,
   "metadata": {},
   "outputs": [
    {
     "name": "stdout",
     "output_type": "stream",
     "text": [
      "0\n",
      "1\n",
      "2\n",
      "3\n",
      "4\n"
     ]
    }
   ],
   "source": [
    "for i in range(5):\n",
    "    print(i)\n"
   ]
  },
  {
   "cell_type": "code",
   "execution_count": 6,
   "metadata": {},
   "outputs": [
    {
     "name": "stdout",
     "output_type": "stream",
     "text": [
      "0\n",
      "1\n",
      "2\n"
     ]
    }
   ],
   "source": [
    "for _ in range(3):\n",
    "    print(_) #Se puede sustituir la 'variable' por '_'."
   ]
  },
  {
   "cell_type": "markdown",
   "metadata": {},
   "source": [
    "Ejemplos: "
   ]
  },
  {
   "cell_type": "code",
   "execution_count": null,
   "metadata": {},
   "outputs": [],
   "source": [
    "for _ in range(100):\n",
    "    n = _ + 1\n",
    "    if ((n % 3) == 0) and ((n % 5) == 0):\n",
    "        print(\"FizzBuzz\")\n",
    "    elif (n % 3) == 0:\n",
    "        print(\"Fizz\")\n",
    "    elif (n % 5) == 0:\n",
    "        print(\"Buzz\")\n",
    "    else:\n",
    "        print(n)\n"
   ]
  },
  {
   "cell_type": "code",
   "execution_count": 4,
   "metadata": {},
   "outputs": [
    {
     "name": "stdout",
     "output_type": "stream",
     "text": [
      "45\n"
     ]
    }
   ],
   "source": [
    "string = \"\"\n",
    "for i in range(1, 20, 4):\n",
    "    string += \"&\" * i \n",
    "\n",
    "print(len(string))\n"
   ]
  },
  {
   "cell_type": "code",
   "execution_count": 13,
   "metadata": {},
   "outputs": [
    {
     "name": "stdout",
     "output_type": "stream",
     "text": [
      "parsel_tongue\n"
     ]
    }
   ],
   "source": [
    "# Print out words in lowercase and separate them by underscores.\n",
    "palabra = str(input())\n",
    "palabra_nueva = \"\"\n",
    "for _ in palabra:\n",
    "    if _.islower():\n",
    "        palabra_nueva += _\n",
    "    else:\n",
    "        palabra_nueva += \"_\"\n",
    "        palabra_nueva += _\n",
    "\n",
    "print(palabra_nueva.lower())"
   ]
  },
  {
   "cell_type": "code",
   "execution_count": null,
   "metadata": {},
   "outputs": [],
   "source": [
    "# Read the first input – a number n. Then read input n times. Each time you'll get an integer value. If it's a multiple of 7 (can be divided by 7 without a remainder), print its square on a new line. Note that you don't need to perform any calculations on the first input (the n).\n",
    "\n",
    "n = int(input())\n",
    "\n",
    "for _ in range(n):\n",
    "    number = int(input())\n",
    "    if (number % 7) == 0:\n",
    "        print(number ** 2)"
   ]
  },
  {
   "cell_type": "code",
   "execution_count": 1,
   "metadata": {},
   "outputs": [
    {
     "name": "stdout",
     "output_type": "stream",
     "text": [
      "7\n"
     ]
    }
   ],
   "source": [
    "# Obtener el numero de vocales que se encuentran en la frase 'string'.\n",
    "string = \"No rifas en Call of Duty\"\n",
    "vowels = 'aeiouáéíóú'\n",
    "\n",
    "count = 0\n",
    "\n",
    "for _ in string:\n",
    "    for i in vowels:\n",
    "        if i == _:\n",
    "            count += 1\n",
    "print(count)"
   ]
  },
  {
   "cell_type": "markdown",
   "metadata": {},
   "source": [
    "### While"
   ]
  },
  {
   "cell_type": "markdown",
   "metadata": {},
   "source": []
  }
 ],
 "metadata": {
  "kernelspec": {
   "display_name": "Python 3.10.5 64-bit (windows store)",
   "language": "python",
   "name": "python3"
  },
  "language_info": {
   "codemirror_mode": {
    "name": "ipython",
    "version": 3
   },
   "file_extension": ".py",
   "mimetype": "text/x-python",
   "name": "python",
   "nbconvert_exporter": "python",
   "pygments_lexer": "ipython3",
   "version": "3.10.6"
  },
  "orig_nbformat": 4,
  "vscode": {
   "interpreter": {
    "hash": "9e6d9b908a23d3132fc2b3f5b97fbd800b70390380001875df7af25191760187"
   }
  }
 },
 "nbformat": 4,
 "nbformat_minor": 2
}
