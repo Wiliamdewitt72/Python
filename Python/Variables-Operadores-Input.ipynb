{
 "cells": [
  {
   "cell_type": "code",
   "execution_count": 1,
   "metadata": {},
   "outputs": [
    {
     "name": "stdout",
     "output_type": "stream",
     "text": [
      "Hello world!\n"
     ]
    }
   ],
   "source": [
    "print(\"Hello world!\")"
   ]
  },
  {
   "cell_type": "markdown",
   "metadata": {},
   "source": [
    "Info acerca de esto: \n",
    "- https://docs.python.org/es/3/library/stdtypes.html#numeric-types-int-float-complex\n",
    "- https://docs.microsoft.com/es-mx/learn/modules/python-create-run-program/2-print"
   ]
  },
  {
   "cell_type": "code",
   "execution_count": 2,
   "metadata": {},
   "outputs": [
    {
     "name": "stdout",
     "output_type": "stream",
     "text": [
      "12\n"
     ]
    }
   ],
   "source": [
    "#-----------------------------------------------------------------\n",
    "# --- Variables ---\n",
    "# ----------------------------------------------------------------\n",
    "\n",
    "sum = 1 + 2\n",
    "#Las variables pueden almacenar lo que sea, hasta returns de funciones.\n",
    "\n",
    "producto = sum * 2\n",
    "producto = producto + producto\n",
    "#También estar definidas mediante otras variables o redefinirse.\n",
    "\n",
    "print(producto)\n",
    "#Así se imprime una variable."
   ]
  },
  {
   "cell_type": "code",
   "execution_count": 3,
   "metadata": {},
   "outputs": [
    {
     "name": "stdout",
     "output_type": "stream",
     "text": [
      "<class 'complex'>\n"
     ]
    }
   ],
   "source": [
    "#----------------------------------------------------------------\n",
    "# --- Tipos de datos ---\n",
    "#----------------------------------------------------------------\n",
    "\n",
    "# Números\n",
    "numero_entero = 9  # int\n",
    "\n",
    "cumpleaños = 3.12  # float\n",
    "\n",
    "numero_complejo = 5j  # complex\n",
    "\n",
    "verdad_o_falso = True  # boolean\n",
    "\n",
    "una_palabra = \"palabra\"  # str, es una cadena\n",
    "\n",
    "# Sirve para conocer el tipo de dato de la variable.\n",
    "tipo = type(numero_complejo)\n",
    "\n",
    "print(tipo)"
   ]
  },
  {
   "cell_type": "code",
   "execution_count": 4,
   "metadata": {},
   "outputs": [
    {
     "name": "stdout",
     "output_type": "stream",
     "text": [
      "9\n",
      "(4.1+7j)\n",
      "8.1\n"
     ]
    }
   ],
   "source": [
    "#----------------------------------------------------------------\n",
    "# --- Operadores ---\n",
    "#----------------------------------------------------------------\n",
    "# Boleanos\n",
    "a = True\n",
    "b = False\n",
    "c = True\n",
    "\n",
    "comida = a or b\n",
    "\n",
    "\n",
    "\n",
    "#Numericos\n",
    "x = 4\n",
    "y = 5\n",
    "z = 7j\n",
    "f = 4.1\n",
    "\n",
    "print(x + y)  # entero + entero = entero\n",
    "\n",
    "print(z + f)  # complejo + flotante = complejo\n",
    "\n",
    "print(x + f)  # entero + complejo = flotante\n",
    "\n",
    "# Conclusión: Los tipos de datos númericos se pueden sumar sin embargo hay que tener cuidado con los tipos complex.\n"
   ]
  }
 ],
 "metadata": {
  "kernelspec": {
   "display_name": "Python 3.10.4 64-bit (windows store)",
   "language": "python",
   "name": "python3"
  },
  "language_info": {
   "codemirror_mode": {
    "name": "ipython",
    "version": 3
   },
   "file_extension": ".py",
   "mimetype": "text/x-python",
   "name": "python",
   "nbconvert_exporter": "python",
   "pygments_lexer": "ipython3",
   "version": "3.10.5"
  },
  "orig_nbformat": 4,
  "vscode": {
   "interpreter": {
    "hash": "c946b6da0c9de0a238e1bbdd636987c49e8bec465511460a35c3497dde538340"
   }
  }
 },
 "nbformat": 4,
 "nbformat_minor": 2
}
