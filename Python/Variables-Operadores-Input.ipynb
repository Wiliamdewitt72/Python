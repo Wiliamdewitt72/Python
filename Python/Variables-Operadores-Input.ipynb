{
 "cells": [
  {
   "cell_type": "code",
   "execution_count": 1,
   "metadata": {},
   "outputs": [
    {
     "name": "stdout",
     "output_type": "stream",
     "text": [
      "Hello world!\n"
     ]
    }
   ],
   "source": [
    "print(\"Hello world!\")"
   ]
  },
  {
   "cell_type": "markdown",
   "metadata": {},
   "source": [
    "Info acerca de esto: \n",
    "- https://docs.python.org/es/3/library/stdtypes.html#numeric-types-int-float-complex\n",
    "- https://docs.microsoft.com/es-mx/learn/modules/python-create-run-program/2-print"
   ]
  },
  {
   "cell_type": "markdown",
   "metadata": {},
   "source": [
    "## Variables"
   ]
  },
  {
   "cell_type": "code",
   "execution_count": 2,
   "metadata": {},
   "outputs": [
    {
     "name": "stdout",
     "output_type": "stream",
     "text": [
      "12\n"
     ]
    }
   ],
   "source": [
    "sum = 1 + 2\n",
    "#Las variables pueden almacenar lo que sea, hasta returns de funciones.\n",
    "\n",
    "producto = sum * 2\n",
    "producto = producto + producto\n",
    "#También estar definidas mediante otras variables o redefinirse.\n",
    "\n",
    "print(producto)\n",
    "#Así se imprime una variable."
   ]
  },
  {
   "cell_type": "markdown",
   "metadata": {},
   "source": [
    "## Tipos de datos"
   ]
  },
  {
   "cell_type": "code",
   "execution_count": null,
   "metadata": {},
   "outputs": [],
   "source": [
    "numero_entero = 9  # int\n",
    "\n",
    "cumpleaños = 3.12  # float\n",
    "\n",
    "numero_complejo = 5j  # complex\n",
    "\n",
    "verdad_o_falso = True  # boolean\n",
    "\n",
    "una_palabra = \"palabra\"  # str, es una cadena"
   ]
  },
  {
   "cell_type": "markdown",
   "metadata": {},
   "source": [
    "Adicionalmente existen funciones para conversión de tipos de datos númericos entre si, como la funcion `int()` que convierte flotantes o complejos a enteros. Algunos ejemplos de las funciones:"
   ]
  },
  {
   "cell_type": "code",
   "execution_count": 34,
   "metadata": {},
   "outputs": [
    {
     "name": "stdout",
     "output_type": "stream",
     "text": [
      "Cumpleaños siendo flotante:  -3.12\n",
      "Cumpleaños siendo entero:  -3 \n",
      "Tipo:  <class 'int'>\n",
      "Cumpleaños siendo flotante otra vez:  -3.0 \n",
      "Tipo:  <class 'float'>\n",
      "Valor absoluto:  3.0\n",
      "Ahora es una cadena :D ->  3.0  | tipo:  <class 'str'>\n"
     ]
    }
   ],
   "source": [
    "cumpleaños = -3.12  # float\n",
    "print(\"Cumpleaños siendo flotante: \", cumpleaños)\n",
    "\n",
    "cumpleaños = int(cumpleaños)\n",
    "print(\"Cumpleaños siendo entero: \", cumpleaños, \"\\nTipo: \", type(cumpleaños))\n",
    "\n",
    "cumpleaños = float(cumpleaños)\n",
    "print(\"Cumpleaños siendo flotante otra vez: \",\n",
    "      cumpleaños, \"\\nTipo: \", type(cumpleaños))\n",
    "\n",
    "cumpleaños = abs(cumpleaños)\n",
    "print(\"Valor absoluto: \",\n",
    "      cumpleaños)\n",
    "\n",
    "cumpleaños = str(cumpleaños)\n",
    "print(\"Ahora es una cadena :D -> \", cumpleaños, \" | tipo: \", type(cumpleaños))"
   ]
  },
  {
   "cell_type": "markdown",
   "metadata": {},
   "source": [
    "## Operadores"
   ]
  },
  {
   "cell_type": "markdown",
   "metadata": {},
   "source": [
    "### Boleanos"
   ]
  },
  {
   "cell_type": "code",
   "execution_count": 2,
   "metadata": {},
   "outputs": [
    {
     "name": "stdout",
     "output_type": "stream",
     "text": [
      "Comida:  True\n",
      "Comida:  False\n",
      "Comida:  True\n"
     ]
    }
   ],
   "source": [
    "# Boleanos\n",
    "a = True\n",
    "b = False\n",
    "c = True\n",
    "\n",
    "comida = a or b # = True\n",
    "print(\"Comida: \", comida)\n",
    "\n",
    "comida = a and b # = False\n",
    "print(\"Comida: \", comida)\n",
    "\n",
    "comida = not b # = True\n",
    "print(\"Comida: \", comida)"
   ]
  },
  {
   "cell_type": "markdown",
   "metadata": {},
   "source": [
    "Los operadores Boleanos se comportan como operadores lógicos comunes, y obedecen a las mimas tablas de verdad."
   ]
  },
  {
   "cell_type": "markdown",
   "metadata": {},
   "source": [
    "### Númericos"
   ]
  },
  {
   "cell_type": "code",
   "execution_count": 23,
   "metadata": {},
   "outputs": [
    {
     "name": "stdout",
     "output_type": "stream",
     "text": [
      "7\n",
      "(4.1+7j)\n",
      "8.1\n",
      "64\n",
      "12\n",
      "1\n",
      "1\n",
      "1.3333333333333333\n"
     ]
    }
   ],
   "source": [
    "#Numericos\n",
    "x = 4\n",
    "y = 3\n",
    "z = 7j\n",
    "f = 4.1\n",
    "\n",
    "print(x + y)  # entero + entero = entero\n",
    "\n",
    "print(z + f)  # complejo + flotante = complejo\n",
    "\n",
    "print(x + f)  # entero + complejo = flotante\n",
    "\n",
    "print(x ** y) # Potencia, x a la y\n",
    "\n",
    "print(x * y) # Multiplicación normal\n",
    "\n",
    "print(x % y) # Residuo de la división\n",
    "\n",
    "print(x // y) # Divisón entera\n",
    "\n",
    "print(x / y) # División común\n",
    "\n"
   ]
  },
  {
   "cell_type": "markdown",
   "metadata": {},
   "source": [
    "Al igual que en C++ hay operadores de asignación:"
   ]
  },
  {
   "cell_type": "code",
   "execution_count": 29,
   "metadata": {},
   "outputs": [
    {
     "name": "stdout",
     "output_type": "stream",
     "text": [
      "2.0\n"
     ]
    }
   ],
   "source": [
    "x = 5\n",
    "\n",
    "x += 3 # = 8\n",
    "\n",
    "x -= 4 # = 4\n",
    "\n",
    "x /=2 # = 2\n",
    "\n",
    "x *= 5 # = 10\n",
    "\n",
    "x //= 5 # = 2\n",
    "\n",
    "x **= 3 # = 8\n",
    "\n",
    "x %= 3 # = 2\n",
    "\n",
    "print(x)"
   ]
  },
  {
   "cell_type": "markdown",
   "metadata": {},
   "source": [
    "## Input\n"
   ]
  }
 ],
 "metadata": {
  "kernelspec": {
   "display_name": "Python 3.10.4 64-bit (windows store)",
   "language": "python",
   "name": "python3"
  },
  "language_info": {
   "codemirror_mode": {
    "name": "ipython",
    "version": 3
   },
   "file_extension": ".py",
   "mimetype": "text/x-python",
   "name": "python",
   "nbconvert_exporter": "python",
   "pygments_lexer": "ipython3",
   "version": "3.10.5"
  },
  "orig_nbformat": 4,
  "vscode": {
   "interpreter": {
    "hash": "c946b6da0c9de0a238e1bbdd636987c49e8bec465511460a35c3497dde538340"
   }
  }
 },
 "nbformat": 4,
 "nbformat_minor": 2
}
